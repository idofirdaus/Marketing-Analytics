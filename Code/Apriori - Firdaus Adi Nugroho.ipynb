{
 "cells": [
  {
   "cell_type": "markdown",
   "metadata": {},
   "source": [
    "# Firdaus Adi Nugroho - Marketing Analytics using Apriori\n",
    "\n",
    "Market Basket Analysis is one of the key techniques used by large retailers to uncover associations between items. It works by looking for combinations of items that occur together frequently in transactions. To put it another way, it allows retailers to identify relationships between the items that people buy.\n",
    "Association Rules are widely used to analyze retail basket or transaction data, and are intended to identify strong rules discovered in transaction data using measures of interestingness, based on the concept of strong rules <br><br>\n",
    "The Apriori Algorithm falls in the Association Rule category. Association Rules are used to identify underlying relations between different items. Apriori Algorithm is a Machine Learning algorithm which is used to gain insight into the structured relationships between different items involved. The most prominent practical application of the algorithm is to recommend products based on the products already present in the user’s cart.<br>\n",
    "<img src=\"marketbasketanalysis.png\"\n",
    "     alt=\"Markdown Monster icon\"\n",
    "     style=\"float: left; margin-right: 10px;\" />"
   ]
  },
  {
   "cell_type": "code",
   "execution_count": 14,
   "metadata": {},
   "outputs": [],
   "source": [
    "#Import the library\n",
    "\n",
    "import numpy as np\n",
    "import matplotlib.pyplot as plt\n",
    "import pandas as pd\n",
    "from apyori import apriori"
   ]
  },
  {
   "cell_type": "markdown",
   "metadata": {},
   "source": [
    "## Data Preprocessing"
   ]
  },
  {
   "cell_type": "code",
   "execution_count": 15,
   "metadata": {
    "scrolled": true
   },
   "outputs": [
    {
     "data": {
      "text/html": [
       "<div>\n",
       "<style scoped>\n",
       "    .dataframe tbody tr th:only-of-type {\n",
       "        vertical-align: middle;\n",
       "    }\n",
       "\n",
       "    .dataframe tbody tr th {\n",
       "        vertical-align: top;\n",
       "    }\n",
       "\n",
       "    .dataframe thead th {\n",
       "        text-align: right;\n",
       "    }\n",
       "</style>\n",
       "<table border=\"1\" class=\"dataframe\">\n",
       "  <thead>\n",
       "    <tr style=\"text-align: right;\">\n",
       "      <th></th>\n",
       "      <th>Name</th>\n",
       "      <th>Item 1</th>\n",
       "      <th>Item 2</th>\n",
       "      <th>Item 3</th>\n",
       "    </tr>\n",
       "  </thead>\n",
       "  <tbody>\n",
       "    <tr>\n",
       "      <th>0</th>\n",
       "      <td>Firdaus Adi Nugroho</td>\n",
       "      <td>HP</td>\n",
       "      <td>Racket</td>\n",
       "      <td>Watch</td>\n",
       "    </tr>\n",
       "    <tr>\n",
       "      <th>1</th>\n",
       "      <td>faizah</td>\n",
       "      <td>HP</td>\n",
       "      <td>Camera</td>\n",
       "      <td>Watch</td>\n",
       "    </tr>\n",
       "    <tr>\n",
       "      <th>2</th>\n",
       "      <td>andrem</td>\n",
       "      <td>Watch</td>\n",
       "      <td>Camera</td>\n",
       "      <td>Music Pad</td>\n",
       "    </tr>\n",
       "    <tr>\n",
       "      <th>3</th>\n",
       "      <td>laili</td>\n",
       "      <td>Camera</td>\n",
       "      <td>Watch</td>\n",
       "      <td>Mouse</td>\n",
       "    </tr>\n",
       "    <tr>\n",
       "      <th>4</th>\n",
       "      <td>Tara</td>\n",
       "      <td>HP</td>\n",
       "      <td>Watch</td>\n",
       "      <td>Music Pad</td>\n",
       "    </tr>\n",
       "  </tbody>\n",
       "</table>\n",
       "</div>"
      ],
      "text/plain": [
       "                  Name  Item 1  Item 2     Item 3\n",
       "0  Firdaus Adi Nugroho      HP  Racket      Watch\n",
       "1               faizah      HP  Camera      Watch\n",
       "2               andrem   Watch  Camera  Music Pad\n",
       "3                laili  Camera   Watch      Mouse\n",
       "4                 Tara      HP   Watch  Music Pad"
      ]
     },
     "execution_count": 15,
     "metadata": {},
     "output_type": "execute_result"
    }
   ],
   "source": [
    "#Load the dataset\n",
    "\n",
    "movie_data = pd.read_csv('dataset_MBA_coba.csv')\n",
    "movie_data.head()"
   ]
  },
  {
   "cell_type": "code",
   "execution_count": 16,
   "metadata": {},
   "outputs": [],
   "source": [
    "movie_data.drop(['Name'],axis=1, inplace=True)"
   ]
  },
  {
   "cell_type": "markdown",
   "metadata": {},
   "source": [
    "we drop the \"Name\" collumn because we just consider the three item collumn below to doing apriori algorithm"
   ]
  },
  {
   "cell_type": "code",
   "execution_count": 17,
   "metadata": {},
   "outputs": [
    {
     "name": "stdout",
     "output_type": "stream",
     "text": [
      "24\n"
     ]
    }
   ],
   "source": [
    "# See how many rows in the dataset\n",
    "\n",
    "num_records = len(movie_data)\n",
    "print(num_records)"
   ]
  },
  {
   "cell_type": "code",
   "execution_count": 19,
   "metadata": {},
   "outputs": [],
   "source": [
    "records = []\n",
    "for i in range(0, 23):\n",
    "    records.append([str(movie_data.values[i,j]) for j in range(0,3)])"
   ]
  },
  {
   "cell_type": "markdown",
   "metadata": {},
   "source": [
    "# Build Apriori Algorithm\n",
    "Let’s suppose that we want only movies that are purchased at least 23 times.<br>\n",
    "\n",
    "\n",
    "let's know more detail about the parameter!<br>\n",
    "- Support: Support is an indication of how frequently the itemset appears in the dataset.<br>\n",
    "- Confidence: Confidence is an indication of how often the rule has been found to be true.<br>\n",
    "- Lift: the ratio of the observed support to that expected if X and Y were independent.<br><br>\n",
    "\n",
    "So, we can define:\n",
    "- The threshold support is 0.05. <br>\n",
    "- The minimum confidence for the rules is 2% or 0.05. <br>\n",
    "- Similarly, we specify the value for lift as 1.2<br>\n",
    "Since we want at least two products in our rules. These values are mostly just arbitrarily chosen and they need to be fine-tuned empirically."
   ]
  },
  {
   "cell_type": "code",
   "execution_count": 7,
   "metadata": {},
   "outputs": [],
   "source": [
    "association_rules = apriori(records, min_support=0.05, min_confidence=0.05, min_lift=1.2)\n",
    "association_results = list(association_rules)"
   ]
  },
  {
   "cell_type": "code",
   "execution_count": 8,
   "metadata": {},
   "outputs": [
    {
     "name": "stdout",
     "output_type": "stream",
     "text": [
      "8\n"
     ]
    }
   ],
   "source": [
    "print(len(association_results))"
   ]
  },
  {
   "cell_type": "code",
   "execution_count": 12,
   "metadata": {
    "scrolled": true
   },
   "outputs": [
    {
     "name": "stdout",
     "output_type": "stream",
     "text": [
      "RelationRecord(items=frozenset({'Bag', 'nan'}), support=0.08695652173913043, ordered_statistics=[OrderedStatistic(items_base=frozenset({'Bag'}), items_add=frozenset({'nan'}), confidence=0.6666666666666666, lift=3.0666666666666664), OrderedStatistic(items_base=frozenset({'nan'}), items_add=frozenset({'Bag'}), confidence=0.4, lift=3.066666666666667)])\n"
     ]
    }
   ],
   "source": [
    "print(association_results[0])"
   ]
  },
  {
   "cell_type": "code",
   "execution_count": 26,
   "metadata": {},
   "outputs": [
    {
     "data": {
      "text/html": [
       "<div>\n",
       "<style scoped>\n",
       "    .dataframe tbody tr th:only-of-type {\n",
       "        vertical-align: middle;\n",
       "    }\n",
       "\n",
       "    .dataframe tbody tr th {\n",
       "        vertical-align: top;\n",
       "    }\n",
       "\n",
       "    .dataframe thead th {\n",
       "        text-align: right;\n",
       "    }\n",
       "</style>\n",
       "<table border=\"1\" class=\"dataframe\">\n",
       "  <thead>\n",
       "    <tr style=\"text-align: right;\">\n",
       "      <th></th>\n",
       "      <th>List 1</th>\n",
       "      <th>List 2</th>\n",
       "      <th>Support</th>\n",
       "      <th>Confidence</th>\n",
       "      <th>Lift</th>\n",
       "    </tr>\n",
       "  </thead>\n",
       "  <tbody>\n",
       "    <tr>\n",
       "      <th>3</th>\n",
       "      <td>Watch</td>\n",
       "      <td>HP</td>\n",
       "      <td>0.17391</td>\n",
       "      <td>1.0</td>\n",
       "      <td>1.53333</td>\n",
       "    </tr>\n",
       "    <tr>\n",
       "      <th>1</th>\n",
       "      <td>Racket</td>\n",
       "      <td>Guitar</td>\n",
       "      <td>0.13043</td>\n",
       "      <td>0.375</td>\n",
       "      <td>1.4375</td>\n",
       "    </tr>\n",
       "    <tr>\n",
       "      <th>0</th>\n",
       "      <td>Bag</td>\n",
       "      <td>nan</td>\n",
       "      <td>0.08695</td>\n",
       "      <td>0.66666</td>\n",
       "      <td>3.06666</td>\n",
       "    </tr>\n",
       "    <tr>\n",
       "      <th>2</th>\n",
       "      <td>Guitar</td>\n",
       "      <td>Soap</td>\n",
       "      <td>0.08695</td>\n",
       "      <td>0.25</td>\n",
       "      <td>1.4375</td>\n",
       "    </tr>\n",
       "    <tr>\n",
       "      <th>4</th>\n",
       "      <td>Racket</td>\n",
       "      <td>Soap</td>\n",
       "      <td>0.08695</td>\n",
       "      <td>0.33333</td>\n",
       "      <td>1.91666</td>\n",
       "    </tr>\n",
       "    <tr>\n",
       "      <th>5</th>\n",
       "      <td>Camera</td>\n",
       "      <td>Guitar</td>\n",
       "      <td>0.08695</td>\n",
       "      <td>0.4</td>\n",
       "      <td>1.31428</td>\n",
       "    </tr>\n",
       "    <tr>\n",
       "      <th>6</th>\n",
       "      <td>Camera</td>\n",
       "      <td>Guitar</td>\n",
       "      <td>0.08695</td>\n",
       "      <td>0.4</td>\n",
       "      <td>1.53333</td>\n",
       "    </tr>\n",
       "    <tr>\n",
       "      <th>7</th>\n",
       "      <td>Camera</td>\n",
       "      <td>Watch</td>\n",
       "      <td>0.08695</td>\n",
       "      <td>1.0</td>\n",
       "      <td>1.53333</td>\n",
       "    </tr>\n",
       "  </tbody>\n",
       "</table>\n",
       "</div>"
      ],
      "text/plain": [
       "   List 1  List 2  Support Confidence     Lift\n",
       "3   Watch      HP  0.17391        1.0  1.53333\n",
       "1  Racket  Guitar  0.13043      0.375   1.4375\n",
       "0     Bag     nan  0.08695    0.66666  3.06666\n",
       "2  Guitar    Soap  0.08695       0.25   1.4375\n",
       "4  Racket    Soap  0.08695    0.33333  1.91666\n",
       "5  Camera  Guitar  0.08695        0.4  1.31428\n",
       "6  Camera  Guitar  0.08695        0.4  1.53333\n",
       "7  Camera   Watch  0.08695        1.0  1.53333"
      ]
     },
     "execution_count": 26,
     "metadata": {},
     "output_type": "execute_result"
    }
   ],
   "source": [
    "results=[]\n",
    "for item in association_results:\n",
    "\n",
    "    pair = item[0] \n",
    "    items = [x for x in pair]\n",
    "    \n",
    "    value0=str(items[0])\n",
    "    value1=str(items[1])\n",
    "    value2=str(item[1])[:7]\n",
    "    value3=str(item[2][0][2])[:7]\n",
    "    value4=str(item[2][0][3])[:7]\n",
    "    \n",
    "    rows=(value0, value1, value2, value3, value4)\n",
    "    results.append(rows)\n",
    "    \n",
    "labels=['List 1', 'List 2','Support','Confidence','Lift' ]\n",
    "movie_suggestion=pd.DataFrame.from_records(results, columns=labels)\n",
    "\n",
    "movie_suggestion.sort_values(by='Support', ascending=False)"
   ]
  },
  {
   "cell_type": "markdown",
   "metadata": {},
   "source": [
    "# Conclusion\n",
    "The conclusion of Apriori Algorithm is we can see at the result above, there are 7 row of data appear. The data appear based on each threshold that has defined before. There are:\n",
    "- Support: 0.05 <br>\n",
    "- Confidence: 0.05 <br>\n",
    "- Lift: 1.2 <br><br>\n",
    "\n",
    "Watch and Handphone has a lot of number transaction it shows from its supports, if we set Handphone over or next to Watch the probability of customer buy Handphone has big probability. And if we combine or cross-selling between Watch and Handphone, it will increasing number of transaction because of number of lift is 1.5<br><br>\n",
    "Racket and Guitar has a lot of number transaction too that shows from its supports, but unfortunetly has little confidence, so the probability Racket customer will buy Guitar is not too much."
   ]
  }
 ],
 "metadata": {
  "kernelspec": {
   "display_name": "Python 3",
   "language": "python",
   "name": "python3"
  },
  "language_info": {
   "codemirror_mode": {
    "name": "ipython",
    "version": 3
   },
   "file_extension": ".py",
   "mimetype": "text/x-python",
   "name": "python",
   "nbconvert_exporter": "python",
   "pygments_lexer": "ipython3",
   "version": "3.6.4"
  }
 },
 "nbformat": 4,
 "nbformat_minor": 2
}
